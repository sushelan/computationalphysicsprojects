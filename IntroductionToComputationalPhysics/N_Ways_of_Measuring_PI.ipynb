{
  "cells": [
    {
      "cell_type": "markdown",
      "metadata": {
        "id": "L6vnL7e5ZqDm"
      },
      "source": [
        "# N ways to measure $\\pi$"
      ]
    },
    {
      "cell_type": "markdown",
      "metadata": {
        "id": "ko4HTX_GZqDu"
      },
      "source": [
        "* **Author:**\n",
        "\n",
        "* **Date:**\n",
        "\n",
        "* **Time spent on this assignment:**"
      ]
    },
    {
      "cell_type": "markdown",
      "metadata": {
        "id": "x6omyQcRZqDx"
      },
      "source": [
        "Remember to execute this cell to load numpy and pylab."
      ]
    },
    {
      "cell_type": "code",
      "execution_count": 1,
      "metadata": {
        "code_folding": [
          4
        ],
        "id": "GQIz_eN-ZqDy",
        "tags": [
          "hide-cell"
        ]
      },
      "outputs": [],
      "source": [
        "import numpy as np\n",
        "import matplotlib.pyplot as plt\n",
        "import math\n",
        "import random\n",
        "def resetMe(keepList=[]):\n",
        "    ll=%who_ls\n",
        "    keepList=keepList+['resetMe','np','plt','math','random']\n",
        "    for iiii in keepList:\n",
        "        if iiii in ll:\n",
        "            ll.remove(iiii)\n",
        "    for iiii in ll:\n",
        "        jjjj=\"^\"+iiii+\"$\"\n",
        "        %reset_selective -f {jjjj}\n",
        "    ll=%who_ls\n",
        "    plt.rcParams.update({\"font.size\": 14})\n",
        "    return\n",
        "import datetime;datetime.datetime.now()\n",
        "resetMe()"
      ]
    },
    {
      "cell_type": "markdown",
      "metadata": {
        "id": "k79Pk6SWZqD1"
      },
      "source": [
        "In this project we will consider three different ways of measuring $\\pi$.  "
      ]
    },
    {
      "cell_type": "markdown",
      "metadata": {
        "id": "9VCkdDdcZqD2"
      },
      "source": [
        "\n",
        "<div class=\"alert alert-info\">\n",
        "Confused about what exactly you need to do?  <br />\n",
        "    <b>Look for the owl emoji 🦉 for instructions</b> <br />\n",
        "</div>"
      ]
    },
    {
      "cell_type": "markdown",
      "metadata": {
        "id": "T_62nANSZqD3"
      },
      "source": [
        "---\n",
        "\n",
        "---"
      ]
    },
    {
      "cell_type": "markdown",
      "metadata": {
        "id": "yglvIqjoZqD5"
      },
      "source": [
        "## Exercise 1: Series"
      ]
    },
    {
      "cell_type": "markdown",
      "metadata": {
        "id": "oPgTjESCZqD7"
      },
      "source": [
        "* **List of collaborators:**\n",
        "\n",
        "* **References you used in developing your code:**\n",
        "\n",
        "---"
      ]
    },
    {
      "cell_type": "markdown",
      "metadata": {
        "id": "E-z8AOoBZqD9"
      },
      "source": [
        "In this exercise we will compute the value of $\\pi$ using a series (a sum of bunch of terms). We will use different series which converge at different rates."
      ]
    },
    {
      "cell_type": "markdown",
      "metadata": {
        "id": "NkMy4M0BZqD9"
      },
      "source": [
        "### a. $\\pi$ from $\\tan$"
      ]
    },
    {
      "cell_type": "markdown",
      "metadata": {
        "id": "Zj40DM7uZqD_"
      },
      "source": [
        "Recall that we can generally find infinite series representations of transcendental functions like $\\sin(x)$. In particular\n",
        "\n",
        "$$\\tan^{-1}(x) = \\sum_{n=0}^\\infty \\frac{(-1)^n}{2n+1} x^{2n+1} ; -1<x\\leq 1$$\n",
        "\n",
        "Since $\\tan^{-1}(1) = \\pi/4$, we can write the following (slowly converging) infinite series:\n",
        "\n",
        "$$\\frac{\\pi}{4} = \\sum_{n=0}^\\infty \\frac{(-1)^n}{2n+1} = 1 - \\frac{1}{3} + \\frac{1}{5} - \\frac{1}{7} + ...$$\n",
        "\n",
        "If we group adjacent terms in the series we can rewrite this as\n",
        "\n",
        "$$\n",
        "\\begin{align}\n",
        "\\frac{\\pi}{4} = \\sum_{n=0}^\\infty \\frac{(-1)^n}{2n+1} &= \\left(1-\\frac{1}{3}\\right) + \\left(\\frac{1}{5}-\\frac{1}{7}\\right) + \\left(\\frac{1}{9}-\\frac{1}{11}\\right) + ...\\\\\n",
        "&=\\frac{3-1}{3 \\cdot 1} + \\frac{7-5}{7 \\cdot 5} + \\frac{11-9}{11 \\cdot 9}+...\\\\\n",
        "&=\\frac{2}{3}+ \\frac{2}{35}+\\frac{2}{99} + ...\\\\\n",
        "&= \\boxed{2 \\cdot \\sum_{n=0}^\\infty \\left[ \\frac{1}{(4n+3)(4n+1)} \\right]}\n",
        "\\end{align}\n",
        "$$\n",
        "\n",
        "The value of $\\pi$ is $3.14159265358979323846264338327950288419716939937510582...$ though the precision with which your computer can calculate it is probably limited to fewer digits than this.\n",
        "\n",
        "🦉Please write a Python script that calculates an approximation to $\\pi$ using the arctan series **i.e. the boxed formula**, and compare its accuracy after the $n = 10$ term, 100 term, 10,000 term, and 1,000,000 term. To compare its accuracy, print out (after those three terms) the value and the difference from $\\pi$.\n",
        "\n",
        "\n",
        "There are two ways to approach this.  One of these is by writing a loop (use a conditional statement to print something after the appropriate terms):\n",
        "\n",
        "Start by initializing a few things, then executing a loop that calculates the nth term, with n running from 0 to 999,999, summing the terms as you go."
      ]
    },
    {
      "cell_type": "markdown",
      "metadata": {
        "id": "EWeOdtWQZqD_"
      },
      "source": [
        "The other option is to write this in a line or two using list comprehensions.\n",
        "\n",
        "Let us start with a loop."
      ]
    },
    {
      "cell_type": "markdown",
      "metadata": {
        "id": "BDJ3wqaqZqEA"
      },
      "source": [
        "<div class=\"alert alert-warning\">\n",
        "<b>Do not use the word <code>sum</code> as a variable!</b> <br />Notice how <code>sum</code> is green in a cell - this means it is a special keyword.<br />\n",
        "</div>"
      ]
    },
    {
      "cell_type": "markdown",
      "metadata": {
        "id": "XLZv9ffeZqEA"
      },
      "source": [
        "*Write your for loop computing the difference from $\\pi$ for a given term in the series below.*\n",
        "<div><img src=\"https://clark.physics.illinois.edu/246img/AnsStart.svg\" width=200 align=left alt=\"Answer (start)\"></img><br></div>\n"
      ]
    },
    {
      "cell_type": "code",
      "execution_count": 2,
      "metadata": {
        "id": "wn_s9q9TZqEA",
        "colab": {
          "base_uri": "https://localhost:8080/"
        },
        "outputId": "e11b948b-ce41-4930-ee5a-eaf19c9d785b"
      },
      "outputs": [
        {
          "output_type": "stream",
          "name": "stdout",
          "text": [
            "Offset of estimate of pi with n=10: 0.049968846921955024\n",
            "Offset of estimate of pi with n=100: 0.004999968750978745\n",
            "Offset of estimate of pi with n=10000: 4.999999997279403e-05\n",
            "Offset of estimate of pi with n=1000000: 4.999998912680326e-07\n"
          ]
        }
      ],
      "source": [
        "# ANSWER ME\n",
        "def estimate_pi(n): # function that represents the summation from 0 to n\n",
        "  total = 0\n",
        "  for i in range(n):\n",
        "    total += (1.0 / ((4*i+3)*(4*i+1)))\n",
        "  return total * 2 * 4 # multiplied by 4 because the summation yields pi/4\n",
        "\n",
        "#initializations of n=10,100,10000,1000000\n",
        "pi_estimate_10      = estimate_pi(10)\n",
        "pi_estimate_100     = estimate_pi(100)\n",
        "pi_estimate_10000   = estimate_pi(10000)\n",
        "pi_estimate_1000000 = estimate_pi(1000000)\n",
        "\n",
        "#offset printing\n",
        "print(\"Offset of estimate of pi with n=10:\", math.pi - pi_estimate_10)\n",
        "print(\"Offset of estimate of pi with n=100:\", math.pi - pi_estimate_100)\n",
        "print(\"Offset of estimate of pi with n=10000:\", math.pi - pi_estimate_10000)\n",
        "print(\"Offset of estimate of pi with n=1000000:\", math.pi - pi_estimate_1000000)"
      ]
    },
    {
      "cell_type": "markdown",
      "metadata": {
        "id": "ZJY1EGmbZqEA"
      },
      "source": [
        "<div><img src=\"https://clark.physics.illinois.edu/246img/AnsEnd.svg\" width=200 align=left alt=\"Answer (start)\"></img><br></div>"
      ]
    },
    {
      "cell_type": "markdown",
      "metadata": {
        "id": "ifUZs3rZZqEB"
      },
      "source": [
        "### b. List Comprehensions"
      ]
    },
    {
      "cell_type": "markdown",
      "metadata": {
        "id": "872EpdhSZqEB"
      },
      "source": [
        "We'll now look deeper at the terms in the series above, in order to practice plotting and analyzing data.\n",
        "\n",
        "Recall that we can store items into a list. A very useful feature about a list is that it can be variable length!\n",
        "To initialize a new list we use `[]`, and can add to it by using the `append()` function"
      ]
    },
    {
      "cell_type": "code",
      "execution_count": 3,
      "metadata": {
        "id": "kfQrpiUCZqEB",
        "outputId": "e4385651-d10f-40ea-aeab-c07c4f1f7049",
        "colab": {
          "base_uri": "https://localhost:8080/"
        }
      },
      "outputs": [
        {
          "output_type": "stream",
          "name": "stdout",
          "text": [
            "[10]\n",
            "myList is length 1\n"
          ]
        }
      ],
      "source": [
        "myList = []\n",
        "myList.append(10)\n",
        "print(myList)\n",
        "print(\"myList is length\",len(myList))"
      ]
    },
    {
      "cell_type": "markdown",
      "metadata": {
        "id": "S_UHBOX8ZqEC"
      },
      "source": [
        "This is obviously most useful in a `for` loop, where we can append numbers to the list."
      ]
    },
    {
      "cell_type": "code",
      "execution_count": 4,
      "metadata": {
        "id": "2Bb8xvBRZqEC",
        "outputId": "03925c88-9d9d-4f54-dc4f-d76f06804120",
        "colab": {
          "base_uri": "https://localhost:8080/"
        }
      },
      "outputs": [
        {
          "output_type": "stream",
          "name": "stdout",
          "text": [
            "[5, 6, 7, 8, 9]\n",
            "myList is length 5\n"
          ]
        }
      ],
      "source": [
        "myList = [] #don't forget to reset it!\n",
        "for i in range(0,5):\n",
        "    myList.append(i+5)\n",
        "print(myList)\n",
        "print(\"myList is length\",len(myList))"
      ]
    },
    {
      "cell_type": "markdown",
      "metadata": {
        "id": "UV7XQO-OZqED"
      },
      "source": [
        "We'll want to plot some lists in a moment. Plotting things in python uses the matplotlib package, imported as `plt`. There are two basic steps for plotting:\n",
        "* `plt.plot(x,y)`\n",
        "    * This tells matplotlib to plot the lists or arrays `x` and `y`. You can also add instructions on how it should look after x,y. If we wanted a dashed line we can use `plt.plot(x,y,'--')` or if we want square points we can use `plt.plot(x,y,'s')`\n",
        "* `plt.show()`\n",
        "    * This tells matplotlib you're done drawing/adding data and to render the image"
      ]
    },
    {
      "cell_type": "code",
      "execution_count": 5,
      "metadata": {
        "id": "n-mZrJm6ZqED",
        "outputId": "e1b2a228-bb18-4e15-acfe-635707a8491c",
        "colab": {
          "base_uri": "https://localhost:8080/",
          "height": 486
        }
      },
      "outputs": [
        {
          "output_type": "display_data",
          "data": {
            "text/plain": [
              "<Figure size 640x480 with 1 Axes>"
            ],
            "image/png": "[encoded data removed]"
          },
          "metadata": {}
        }
      ],
      "source": [
        "#if we add '--' it will be dashed, and if we add 's' there will be squares. What if we do both?\n",
        "plt.plot(range(0,5),myList,'s')\n",
        "plt.xlabel(\"My x Label\")\n",
        "plt.ylabel(\"My y Label\")\n",
        "plt.title(\"Title of the coolest plot\")\n",
        "plt.show()"
      ]
    },
    {
      "cell_type": "markdown",
      "metadata": {
        "id": "RFUN2HYlZqED"
      },
      "source": [
        "🦉  Make a list `piList` which contains the terms\n",
        "\n",
        "$$\\frac{8}{(4n+3)(4n+1)}$$\n",
        "\n",
        "in the $\\tan^{-1}$ series above.\n",
        "\n",
        "Now we need to evaluate the cumulative sum of piList, which can be done using `piList_cumulative = np.cumsum(np.array(piList))`\n",
        "\n",
        "Now we want to graph the difference from $\\pi$.   Go ahead and graph\n",
        "`plt.plot(np.abs(np.pi-piList_cumulative))`\n",
        "\n",
        "You'll probably find that the terms in the series get very small very quickly! To see them a little better we can adjust the y-axis to be scalled *logarithmically* rather than *linearly*, by calling `plt.yscale('log')`.\n",
        "\n",
        "Make sure you label your axis!"
      ]
    },
    {
      "cell_type": "markdown",
      "metadata": {
        "id": "MxPhJ1JRZqED"
      },
      "source": [
        "*Write your code (and generate your plot) below.*\n",
        "<div><img src=\"https://clark.physics.illinois.edu/246img/AnsStart.svg\" width=200 align=left alt=\"Answer (start)\"></img><br></div>\n"
      ]
    },
    {
      "cell_type": "code",
      "execution_count": 6,
      "metadata": {
        "id": "Gq33kl2OZqED",
        "colab": {
          "base_uri": "https://localhost:8080/",
          "height": 459
        },
        "outputId": "7f936676-eb54-4ee7-d041-ef9fdc5adbeb"
      },
      "outputs": [
        {
          "output_type": "display_data",
          "data": {
            "text/plain": [
              "<Figure size 640x480 with 1 Axes>"
            ],
            "image/png": "[encoded data removed]"
          },
          "metadata": {}
        }
      ],
      "source": [
        "#ANSWER ME\n",
        "piList = [8/((4*i+3)*(4*i+1)) for i in range(100)] # list comprehension of given summation formula with n=100\n",
        "piList_cumulative = np.cumsum(np.array(piList))\n",
        "plt.plot(np.abs(np.pi-piList_cumulative))\n",
        "plt.xlabel('n')\n",
        "plt.ylabel('Difference from pi')\n",
        "plt.yscale('log')"
      ]
    },
    {
      "cell_type": "markdown",
      "metadata": {
        "id": "XrJrtC-OZqEE"
      },
      "source": [
        "<div><img src=\"https://clark.physics.illinois.edu/246img/AnsEnd.svg\" width=200 align=left alt=\"Answer (end)\"></img><br></div>"
      ]
    },
    {
      "cell_type": "markdown",
      "metadata": {
        "id": "GbQHov_2ZqEE"
      },
      "source": [
        "---"
      ]
    },
    {
      "cell_type": "markdown",
      "metadata": {
        "id": "U8ZRUi6LZqEE"
      },
      "source": [
        "### c. $\\pi$ from Ramanujan"
      ]
    },
    {
      "cell_type": "markdown",
      "metadata": {
        "id": "PDzehNwaZqEE"
      },
      "source": [
        "A much more rapidly converging series was discovered by the brilliant Indian mathematician Srinivasa Ramanujan.  It is\n",
        "\n",
        "$$\\frac{1}{\\pi} = \\frac{2\\sqrt{2}}{9801} \\sum_{k=0}^\\infty \\frac{(4k)!(1103+26390k)}{(k!)^4396^{4k}}$$\n",
        "\n",
        "where $k!$ (\"k factorial\") is $1\\times 2\\times 3\\times ... \\times k$ and $(4k)!$ is $1\\times2\\times3\\times ... \\times 4k$\n",
        "\n",
        "🦉Write a Python script that calculates an approximation to $\\pi$ using the Ramanujan series, and comment on its accuracy after 1, 2, and 3 terms. (Recall that the value of $\\pi$ is 3.14159265358979323846264338327950288419716939937510582...)\n",
        "\n",
        "Note that there are even faster-converging formulas than this! One, mentioned in Wolfram MathWorld[<sup>1</sup>](#fn1), adds 50 digits of precision for each additional term.\n"
      ]
    },
    {
      "cell_type": "markdown",
      "metadata": {
        "id": "QZggW_iTZqEG"
      },
      "source": [
        "*Please put your loop showing your approximation to $\\pi$ below again plotting (on a log-scale) the difference from $\\pi$.*\n",
        "\n",
        "You might only get the $k=0$ and $k=1$ term on your plot because of how quickly the series converges.\n",
        "\n",
        "<div><img src=\"https://clark.physics.illinois.edu/246img/AnsStart.svg\" width=200 align=left alt=\"Answer (start)\"></img><br></div>\n"
      ]
    },
    {
      "cell_type": "code",
      "execution_count": 23,
      "metadata": {
        "id": "IVkHJlToZqEG",
        "colab": {
          "base_uri": "https://localhost:8080/",
          "height": 459
        },
        "outputId": "b1b47da0-22bd-4749-9fe7-9da67cd1984d"
      },
      "outputs": [
        {
          "output_type": "display_data",
          "data": {
            "text/plain": [
              "<Figure size 640x480 with 1 Axes>"
            ],
            "image/png": "[encoded data removed]"
          },
          "metadata": {}
        }
      ],
      "source": [
        "# ANSWER ME\n",
        "coeff = 2 * np.sqrt(2) / 9801\n",
        "\n",
        "\n",
        "def fact(n):\n",
        "  total, i = 1,1\n",
        "  while i <= n:\n",
        "    total *= i\n",
        "    i+=1\n",
        "  return total\n",
        "\n",
        "pi_list = [fact(4*i)*(1103+26390*i)/((fact(i)**4)* (396**(4*i))) for i in range(5)]\n",
        "piList_cumulative = coeff*(np.cumsum(np.array(pi_list)))\n",
        "plt.plot(np.abs(np.pi-1/(piList_cumulative)))\n",
        "plt.xlabel('k')\n",
        "plt.ylabel('difference from pi')\n",
        "plt.yscale('log')\n",
        "\n"
      ]
    },
    {
      "cell_type": "markdown",
      "metadata": {
        "id": "11d7WK15ZqEG"
      },
      "source": [
        "<div><img src=\"https://clark.physics.illinois.edu/246img/AnsEnd.svg\" width=200 align=left alt=\"Answer (end)\"></img><br></div>"
      ]
    },
    {
      "cell_type": "markdown",
      "metadata": {
        "id": "iWB5Jn_lZqEG"
      },
      "source": [
        "----\n",
        "\n",
        "----"
      ]
    },
    {
      "cell_type": "markdown",
      "metadata": {
        "id": "yBx5Tso4ZqEH"
      },
      "source": [
        "## Exercise 2: Archimedes"
      ]
    },
    {
      "cell_type": "markdown",
      "metadata": {
        "id": "3O7FAEj-ZqEH"
      },
      "source": [
        "* **List of collaborators:**\n",
        "\n",
        "* **References you used in developing your code:**\n",
        "\n",
        "---"
      ]
    },
    {
      "cell_type": "markdown",
      "metadata": {
        "id": "pparmqZoZqEH"
      },
      "source": [
        "Archimedes was an ancient greek who lived in 287 BC ([wikipedia](https://en.wikipedia.org/wiki/Archimedes)).  He developed a way to approximate $\\pi$ by estimating the circumference of the circle $C$ of known radius $r$ by a series of polygons inscribed within the circle.  Once we know the circumference, $C=2\\pi r$ and therefore $\\pi = C/(2r)$.   \n",
        "\n",
        "**Note:** don't worry about using $\\pi$ in your code below!"
      ]
    },
    {
      "cell_type": "markdown",
      "metadata": {
        "id": "xmmK3YuWZqEH"
      },
      "source": [
        "### a. Drawing a circle"
      ]
    },
    {
      "cell_type": "markdown",
      "metadata": {
        "id": "WBJCU1oMZqEH"
      },
      "source": [
        "🦉Start by defining a function `DrawCircle()` which plots a circle (but don't call `plt.show()` at the end of it.)  You can then generate your circle by doing\n",
        "\n",
        "```\n",
        "DrawCircle()\n",
        "plt.axis('scaled') # this makes your circle look like a circle and not an oval\n",
        "plt.show()\n",
        "```\n",
        "\n",
        "Recall that the for a circle of radius $r$,\n",
        "\n",
        "$x=r\\cos\\theta \\hspace{2cm} y=r\\sin\\theta$\n",
        "\n",
        "where $0 \\leq \\theta \\leq 2\\pi$. Plot all points starting with $\\theta=0$ with increments of $d\\theta=0.0001$ until you get to $2\\pi$.   In this problem, we will work with a circle of radius $r=1$.  \n"
      ]
    },
    {
      "cell_type": "markdown",
      "metadata": {
        "id": "BX80lQDGZqEI"
      },
      "source": [
        "*Draw your circle below!*\n",
        "\n",
        "<div><img src=\"https://clark.physics.illinois.edu/246img/AnsStart.svg\" width=200 align=left alt=\"Answer (start)\"></img><br></div>"
      ]
    },
    {
      "cell_type": "code",
      "execution_count": 24,
      "metadata": {
        "id": "Ab249mGlZqEI",
        "colab": {
          "base_uri": "https://localhost:8080/",
          "height": 435
        },
        "outputId": "1db9abad-78c7-418f-8d81-7a0f0a7df5e6"
      },
      "outputs": [
        {
          "output_type": "display_data",
          "data": {
            "text/plain": [
              "<Figure size 640x480 with 1 Axes>"
            ],
            "image/png": "[encoded data removed]"
          },
          "metadata": {}
        }
      ],
      "source": [
        "# ANSWER ME\n",
        "def DrawCircle():\n",
        "  theta = 0\n",
        "  xvalues = []\n",
        "  yvalues = []\n",
        "  while (theta <= 2*np.pi):\n",
        "    xvalues.append(np.cos(theta))\n",
        "    yvalues.append(np.sin(theta))\n",
        "    theta += 0.0001\n",
        "\n",
        "  return xvalues,yvalues\n",
        "\n",
        "xvalues,yvalues = DrawCircle()\n",
        "plt.plot(xvalues, yvalues)\n",
        "plt.axis('scaled') # this makes your circle look like a circle and not an oval\n",
        "plt.show()"
      ]
    },
    {
      "cell_type": "markdown",
      "metadata": {
        "id": "w3WylENIZqEI"
      },
      "source": [
        "<div><img src=\"https://clark.physics.illinois.edu/246img/AnsEnd.svg\" width=200 align=left alt=\"Answer (end)\"></img><br></div>"
      ]
    },
    {
      "cell_type": "markdown",
      "metadata": {
        "id": "Fh5dLLc-ZqEJ"
      },
      "source": [
        "### b. Drawing a polygon"
      ]
    },
    {
      "cell_type": "markdown",
      "metadata": {
        "id": "lj8hq6_DZqEJ"
      },
      "source": [
        "🦉Now that you can draw a circle, the next step is to draw a polygon inside the circle.  Write a function `DrawPolygon(N)`. The points of a $N$-sided polygon should be at angles $2\\pi/N$.  You should add an extra point at the end so your polygon looks closed.\n",
        "\n",
        "Use your function to draw a 5-sided polygon (after drawing the circle):\n",
        "```\n",
        "DrawCircle()\n",
        "DrawPolygon(5)\n",
        "plt.axis('scaled') # this makes your circle look like a circle and not an oval\n",
        "plt.show()\n",
        "```"
      ]
    },
    {
      "cell_type": "markdown",
      "metadata": {
        "id": "1Awh2PkQZqEJ"
      },
      "source": [
        "*Write below your function to draw a $N$ sided polygon and then use it to draw a 5-sided polygon.  You can use* `dTheta = 2*np.pi/N` *in your function.*\n",
        "\n",
        "<div><img src=\"https://clark.physics.illinois.edu/246img/AnsStart.svg\" width=200 align=left alt=\"Answer (start)\"></img><br></div>"
      ]
    },
    {
      "cell_type": "code",
      "execution_count": 28,
      "metadata": {
        "id": "neV_uA0dZqEJ",
        "colab": {
          "base_uri": "https://localhost:8080/",
          "height": 435
        },
        "outputId": "4de667f1-205a-46eb-a9c0-a11456839293"
      },
      "outputs": [
        {
          "output_type": "display_data",
          "data": {
            "text/plain": [
              "<Figure size 640x480 with 1 Axes>"
            ],
            "image/png": "[encoded data removed]"
          },
          "metadata": {}
        }
      ],
      "source": [
        "# ANSWER ME\n",
        "def DrawPolygon(n):\n",
        "  theta = 0\n",
        "  xvalues = []\n",
        "  yvalues = []\n",
        "  while theta <= 2*np.pi:\n",
        "    xvalues.append(np.cos(theta))\n",
        "    yvalues.append(np.sin(theta))\n",
        "    theta += 2*np.pi/n\n",
        "\n",
        "  return xvalues,yvalues\n",
        "\n",
        "\n",
        "xvalues,yvalues = DrawPolygon(5)\n",
        "\n",
        "plt.plot(xvalues, yvalues)\n",
        "plt.axis('scaled') # this makes your circle look like a circle and not an oval\n",
        "plt.show()"
      ]
    },
    {
      "cell_type": "markdown",
      "metadata": {
        "id": "ndtswqbyZqEK"
      },
      "source": [
        "<div><img src=\"https://clark.physics.illinois.edu/246img/AnsEnd.svg\" width=200 align=left alt=\"Answer (end)\"></img><br></div>"
      ]
    },
    {
      "cell_type": "markdown",
      "metadata": {
        "id": "_Maxy7kGZqEK"
      },
      "source": [
        "### c. Python Fun - List Comprehensions"
      ]
    },
    {
      "cell_type": "markdown",
      "metadata": {
        "id": "V1fYxII3ZqEK"
      },
      "source": [
        "A cool Python feature is list comprehensions. Instead of writing a `for` loop, if we're clever we can stuff everything into one line inside a list, and python will be able to fill out the list faster than doing an `append()`.  \n",
        "Check out the example below:"
      ]
    },
    {
      "cell_type": "code",
      "execution_count": 37,
      "metadata": {
        "id": "yq1rHur_ZqEK",
        "outputId": "fb5aeae0-7458-4392-af92-7ef7e0627e7d",
        "colab": {
          "base_uri": "https://localhost:8080/"
        }
      },
      "outputs": [
        {
          "output_type": "stream",
          "name": "stdout",
          "text": [
            "slowList= [-5, -4, -3, -2, -1]\n",
            "fastList= [-5, -4, -3, -2, -1]\n"
          ]
        }
      ],
      "source": [
        "slowList = []\n",
        "for i in range(0,5):\n",
        "    slowList.append(i-5)\n",
        "# now we rearrange the syntax, so what we want each element to be\n",
        "# is *first* and the for loop statement is after\n",
        "fastList = [i-5 for i in range(0,5)]\n",
        "print(\"slowList=\",slowList)\n",
        "print(\"fastList=\",fastList)"
      ]
    },
    {
      "cell_type": "markdown",
      "metadata": {
        "id": "njqGI8C8ZqEL"
      },
      "source": [
        "🦉Rewrite your answer to **b.** to use list comprehensions, turning any `for` loops you had into one line.\n",
        " You can have a function that generates all the `x` points in one line and all the `y` points in another line.\n"
      ]
    },
    {
      "cell_type": "markdown",
      "metadata": {
        "id": "a9c5geYiZqEL"
      },
      "source": [
        "<div><img src=\"https://clark.physics.illinois.edu/246img/AnsStart.svg\" width=200 align=left alt=\"Answer (start)\"></img><br></div>"
      ]
    },
    {
      "cell_type": "code",
      "execution_count": 39,
      "metadata": {
        "id": "yZU4_SDuZqEL",
        "colab": {
          "base_uri": "https://localhost:8080/",
          "height": 435
        },
        "outputId": "c0457343-7aea-4888-934a-9d77807f34f0"
      },
      "outputs": [
        {
          "output_type": "display_data",
          "data": {
            "text/plain": [
              "<Figure size 640x480 with 1 Axes>"
            ],
            "image/png": "[encoded data removed]"
          },
          "metadata": {}
        }
      ],
      "source": [
        "# answer here!\n",
        "# ANSWER ME\n",
        "def DrawPolygon(n):\n",
        "  theta = 0\n",
        "  xvalues = [np.cos(theta) for theta in np.arange(0,2*np.pi+np.pi*2/n,np.pi*2/n)]\n",
        "  yvalues = [np.sin(theta) for theta in np.arange(0,2*np.pi+np.pi*2/n,np.pi*2/n)]\n",
        "  return xvalues,yvalues\n",
        "\n",
        "\n",
        "xvalues,yvalues = DrawPolygon(5)\n",
        "\n",
        "plt.plot(xvalues, yvalues)\n",
        "plt.axis('scaled') # this makes your circle look like a circle and not an oval\n",
        "plt.show()"
      ]
    },
    {
      "cell_type": "markdown",
      "metadata": {
        "id": "3ntxx74vZqEM"
      },
      "source": [
        "<div><img src=\"https://clark.physics.illinois.edu/246img/AnsEnd.svg\" width=200 align=left alt=\"Answer (end)\"></img><br></div>"
      ]
    },
    {
      "cell_type": "markdown",
      "metadata": {
        "id": "21arZx8KZqEM"
      },
      "source": [
        "🦉 Now modify your function above to return the perimeter (divided by 2) of the polygon that you drew.\n",
        "\n",
        "Report how close is your answer to $\\pi$ for $N=100$?\n",
        "\n",
        "Plot the estimate of $\\pi$ from a $N$-sided polygon as a function of $3<N\\leq100$. Use `plt.axhline(np.pi,linestyle='--')` to draw a line where $\\pi$ is on your plot.\n"
      ]
    },
    {
      "cell_type": "markdown",
      "metadata": {
        "id": "EoxKQVfqZqEM"
      },
      "source": [
        "\n",
        "<div><img src=\"https://clark.physics.illinois.edu/246img/AnsStart.svg\" width=200 align=left alt=\"Answer (start)\"></img><br></div>"
      ]
    },
    {
      "cell_type": "code",
      "execution_count": 44,
      "metadata": {
        "id": "P5cbD58BZqEN",
        "colab": {
          "base_uri": "https://localhost:8080/",
          "height": 478
        },
        "outputId": "45aebac9-028f-48f6-9da8-51fadfa9aa1c"
      },
      "outputs": [
        {
          "output_type": "execute_result",
          "data": {
            "text/plain": [
              "Text(0.5, 0, 'N')"
            ]
          },
          "metadata": {},
          "execution_count": 44
        },
        {
          "output_type": "display_data",
          "data": {
            "text/plain": [
              "<Figure size 640x480 with 1 Axes>"
            ],
            "image/png": "[encoded data removed]"
          },
          "metadata": {}
        }
      ],
      "source": [
        "# ANSWER HERE\n",
        "def ReturnPerimeterPolygon(n):\n",
        "  theta = 0\n",
        "  xvalues = [np.cos(theta) for theta in np.arange(0,2*np.pi+np.pi*2/n,np.pi*2/n)]\n",
        "  yvalues = [np.sin(theta) for theta in np.arange(0,2*np.pi+np.pi*2/n,np.pi*2/n)]\n",
        "\n",
        "  return n * np.sqrt((xvalues[1]-xvalues[0])**2 + (yvalues[1]-yvalues[0])**2) / 2\n",
        "\n",
        "perimeterlist = [ReturnPerimeterPolygon(i) for i in range(4, 101)]\n",
        "plt.plot(np.array(perimeterlist))\n",
        "plt.axhline(np.pi,linestyle='--')\n",
        "plt.ylabel(\"estimate of pi\")\n",
        "plt.xlabel(\"N\")"
      ]
    },
    {
      "cell_type": "markdown",
      "metadata": {
        "id": "XF8XiylQZqEN"
      },
      "source": [
        "<div><img src=\"https://clark.physics.illinois.edu/246img/AnsEnd.svg\" width=200 align=left alt=\"Answer (end)\"></img><br></div>"
      ]
    },
    {
      "cell_type": "markdown",
      "metadata": {
        "id": "IPegoIW4ZqEN"
      },
      "source": [
        "### d.  Inscribed Polygon (EC) (Extra Credit: 5 points)"
      ]
    },
    {
      "cell_type": "markdown",
      "metadata": {
        "id": "UTMrNt5sZqEN"
      },
      "source": [
        "Do the same thing you did earlier but use both the inscribed and circumscribed polygons.  On your plot, you should see that you approach $\\pi$ from above and below."
      ]
    },
    {
      "cell_type": "markdown",
      "metadata": {
        "id": "kAWoWLQyZqEO"
      },
      "source": [
        "<div><img src=\"https://clark.physics.illinois.edu/246img/AnsStart.svg\" width=200 align=left alt=\"Answer (start)\"></img><br></div>"
      ]
    },
    {
      "cell_type": "code",
      "execution_count": 13,
      "metadata": {
        "id": "rIGIzv7SZqEO"
      },
      "outputs": [],
      "source": [
        "# ANSWER HERE"
      ]
    },
    {
      "cell_type": "markdown",
      "metadata": {
        "id": "Rj-uWDVrZqEO"
      },
      "source": [
        "<div><img src=\"https://clark.physics.illinois.edu/246img/AnsEnd.svg\" width=200 align=left alt=\"Answer (end)\"></img><br></div>"
      ]
    },
    {
      "cell_type": "markdown",
      "metadata": {
        "id": "CXbyX2ABZqEO"
      },
      "source": [
        "## Exercise 3: Throwing Darts"
      ]
    },
    {
      "cell_type": "markdown",
      "metadata": {
        "id": "lDj7w-Y7ZqEP"
      },
      "source": [
        "* **List of collaborators:**\n",
        "\n",
        "* **References you used in developing your code:**\n",
        "\n",
        "---"
      ]
    },
    {
      "cell_type": "markdown",
      "metadata": {
        "id": "7MTSgtxxZqEP"
      },
      "source": [
        "In this exercise, we will compute $\\pi$ by (*in silico*[<sup>2</sup>](#fn2)) throwing darts at a board.  To do this,  we are going to need to use random numbers."
      ]
    },
    {
      "cell_type": "markdown",
      "metadata": {
        "id": "CpCaFZERZqEP"
      },
      "source": [
        "You can read about Python’s (pseudo)random number generating functions [here](https://docs.python.org/3/library/random.html). They live in the `random` library, and can be imported using `import random`. Here’s a snippet of code that generates a sequence of random numbers between -1 and 1.\n"
      ]
    },
    {
      "cell_type": "code",
      "execution_count": 14,
      "metadata": {
        "id": "7-Ei25L8ZqEQ",
        "outputId": "cc75ea81-94f8-40a5-a752-8886fce9e0c2",
        "colab": {
          "base_uri": "https://localhost:8080/"
        }
      },
      "outputs": [
        {
          "output_type": "stream",
          "name": "stdout",
          "text": [
            "-0.2394804519567697\n",
            "-0.3811910072386504\n",
            "-0.36956274268545153\n",
            "0.682457599803326\n",
            "0.03964577642100142\n",
            "0.785847444137729\n",
            "0.17325655803841156\n",
            "-0.9205847515719534\n",
            "0.8842987665463458\n"
          ]
        }
      ],
      "source": [
        "import random\n",
        "for i in range(1,10):\n",
        "    print(random.uniform(-1,1))"
      ]
    },
    {
      "cell_type": "markdown",
      "metadata": {
        "id": "VzsPrVFuZqEQ"
      },
      "source": [
        "A couple of fine points: `uniform(-1,1)` generates random numbers with a uniform distribution in the semi-open range `[-1.0,1.0)`;  the `range` specification in the for loop requires i to be greater than or equal to 1, but less than 10. Only nine random numbers are printed."
      ]
    },
    {
      "cell_type": "markdown",
      "metadata": {
        "id": "7pyNJb1SZqEQ"
      },
      "source": [
        "### a. Darts at a board"
      ]
    },
    {
      "cell_type": "markdown",
      "metadata": {
        "id": "seErjt-BZqEQ"
      },
      "source": [
        "🦉Call DrawCircle() to draw a circle of radius 1.0 in a $2 \\times 2$ square. Then pick 25 random points $(x,y)$ in the square (do this by picking two random numbers each between -1 and 1). Plot them within the square (`plt.plot(x,y,'.',color='red'`).   Recall that the area of a circle is $\\pi r^2$, and that if you inscribe a circle of radius 1.0 inside a square of side length 2, the ratio of the areas of the circle and square will be $\\pi$/4.\n",
        "\n",
        "$$\n",
        "\\frac{\\pi r^2}{4 r^2}= \\frac{\\pi}{4}\n",
        "$$\n",
        "\n",
        "Because the dart is likely to hit any place on the square, the fraction of dots within the circle is the ratio of the area between the circle and the square.\n",
        "\n",
        "\n",
        "I removed all the axis to make them look prettier by doing:\n",
        "```python\n",
        "plt.xlim(-1,1)\n",
        "plt.ylim(-1,1)\n",
        "plt.gca().get_xaxis().set_visible(False)\n",
        "plt.gca().get_yaxis().set_visible(False)\n",
        "plt.show()\n",
        "```\n"
      ]
    },
    {
      "cell_type": "markdown",
      "metadata": {
        "id": "VKExcRALZqER"
      },
      "source": [
        "*Code below for circle and random points in a square.*\n",
        "<div><img src=\"https://clark.physics.illinois.edu/246img/AnsStart.svg\" width=200 align=left alt=\"Answer (start)\"></img><br></div>"
      ]
    },
    {
      "cell_type": "code",
      "execution_count": 15,
      "metadata": {
        "id": "2c4z0_grZqER"
      },
      "outputs": [],
      "source": [
        "# ANSWER HERE"
      ]
    },
    {
      "cell_type": "markdown",
      "metadata": {
        "id": "10MWT14TZqER"
      },
      "source": [
        "<div><img src=\"https://clark.physics.illinois.edu/246img/AnsEnd.svg\" width=200 align=left alt=\"Answer (end)\"></img><br></div>"
      ]
    },
    {
      "cell_type": "markdown",
      "metadata": {
        "id": "eWsg5FXNZqER"
      },
      "source": [
        "### b. $\\pi$ from Darts"
      ]
    },
    {
      "cell_type": "markdown",
      "metadata": {
        "id": "T2fI2EpvZqES"
      },
      "source": [
        "🦉Within your loops, measure the fraction of dots that actually end up in your circle.  Measure $\\pi$ using this number both with 25 dots as well as 2500 dots (for this latter number you might want to turn off the plotting or it will be really slow)."
      ]
    },
    {
      "cell_type": "markdown",
      "metadata": {
        "id": "lpSaC7H_ZqES"
      },
      "source": [
        "*Code for fraction of points which are in the circle.  This should be $\\pi/4$ so multiply by 4 to get $\\pi$*\n",
        "<div><img src=\"https://clark.physics.illinois.edu/246img/AnsStart.svg\" width=200 align=left alt=\"Answer (start)\"></img><br></div>"
      ]
    },
    {
      "cell_type": "code",
      "execution_count": 16,
      "metadata": {
        "id": "TmeCf3CNZqES"
      },
      "outputs": [],
      "source": [
        "# ANSWER HERE"
      ]
    },
    {
      "cell_type": "markdown",
      "metadata": {
        "id": "ftL6hGu-ZqES"
      },
      "source": [
        "<div><img src=\"https://clark.physics.illinois.edu/246img/AnsEnd.svg\" width=200 align=left alt=\"Answer (end)\"></img><br></div>"
      ]
    },
    {
      "cell_type": "markdown",
      "metadata": {
        "id": "4C8N-6uXZqES"
      },
      "source": [
        "### c. Repeated Experiments"
      ]
    },
    {
      "cell_type": "markdown",
      "metadata": {
        "id": "HPv27Cx4ZqET"
      },
      "source": [
        "🦉Now wrap your code in an additional outer loop which runs 1000 times. You now have an outer loops (1000 times) and inner loop (2500 times).   You are now estimating $\\pi$ 1000 times.  \n",
        "\n",
        "Store each of the estimates in an array (or list) and generate a histogram (bar graph) of the values in the array using `plt.hist`. If my estimates were stored in a list named `storedVals` I can generate a histogram by\n",
        "```python\n",
        "plt.hist(storedVals)\n",
        "#...add axis labels, etc here...\n",
        "plt.show()\n",
        "```\n",
        "\n",
        "Finally increase the number of iterations in your inner loop from 2,500 to 10,000. How does the width of your histogram change?  \n",
        "(You should find that it is about half as big. It is very common for statistical precision to improve proportional to the square root of the number of samples in your average.)\n"
      ]
    },
    {
      "cell_type": "markdown",
      "metadata": {
        "id": "zPrs72OxZqET"
      },
      "source": [
        "*Plot your two histograms below.*\n",
        "<div><img src=\"https://clark.physics.illinois.edu/246img/AnsStart.svg\" width=200 align=left alt=\"Answer (start)\"></img><br></div>"
      ]
    },
    {
      "cell_type": "code",
      "execution_count": 17,
      "metadata": {
        "id": "fXO87jmLZqET"
      },
      "outputs": [],
      "source": [
        "# ANSWER HERE"
      ]
    },
    {
      "cell_type": "markdown",
      "metadata": {
        "id": "SYYm4fKKZqEU"
      },
      "source": [
        "<div><img src=\"https://clark.physics.illinois.edu/246img/AnsEnd.svg\" width=200 align=left alt=\"Answer (end)\"></img><br></div>"
      ]
    },
    {
      "cell_type": "markdown",
      "metadata": {
        "id": "4RYia11AZqEU"
      },
      "source": [
        "## Exercise 4: Buffon's Needle (EC) (Extra Credit: 10 points)"
      ]
    },
    {
      "cell_type": "markdown",
      "metadata": {
        "id": "FdjEAh0QZqEU"
      },
      "source": [
        "* **List of collaborators:**\n",
        "\n",
        "* **References you used in developing your code:**\n",
        "\n",
        "\n",
        "---\n"
      ]
    },
    {
      "cell_type": "markdown",
      "metadata": {
        "id": "6b4jt_8lZqEU"
      },
      "source": [
        "Read about Buffon's needle and implement a simulation of it to get $\\pi$."
      ]
    },
    {
      "cell_type": "markdown",
      "metadata": {
        "id": "l-nt0VckZqEV"
      },
      "source": [
        "---\n",
        "---"
      ]
    },
    {
      "cell_type": "markdown",
      "metadata": {
        "id": "3pEE0UX3ZqEV"
      },
      "source": [
        "**Acknowledgements:**\n",
        "* Ex. 1,3 originally developed by George Gollin\n",
        "* Ex. 2 developed by Bryan Clark\n",
        "\n",
        "© Copyright 2023"
      ]
    },
    {
      "cell_type": "markdown",
      "metadata": {
        "id": "XPBmNHvBZqEV"
      },
      "source": [
        "---\n",
        "<span id=“fn1”><sup>1</sup>http://mathworld.wolfram.com/PiFormulas.html </span>\n",
        "\n",
        "<span id=“fn2”><sup>2</sup>performed by computer simulation; by silicon</span>"
      ]
    },
    {
      "cell_type": "code",
      "execution_count": 17,
      "metadata": {
        "id": "sQjyqpVoZqEV"
      },
      "outputs": [],
      "source": []
    },
    {
      "cell_type": "code",
      "execution_count": 17,
      "metadata": {
        "id": "kZ_LwR1DZqEW"
      },
      "outputs": [],
      "source": []
    }
  ],
  "metadata": {
    "colab": {
      "provenance": []
    },
    "kernelspec": {
      "display_name": "Python 3 (ipykernel)",
      "language": "python",
      "name": "python3"
    },
    "language_info": {
      "codemirror_mode": {
        "name": "ipython",
        "version": 3
      },
      "file_extension": ".py",
      "mimetype": "text/x-python",
      "name": "python",
      "nbconvert_exporter": "python",
      "pygments_lexer": "ipython3",
      "version": "3.7.3"
    },
    "toc": {
      "nav_menu": {},
      "number_sections": true,
      "sideBar": true,
      "skip_h1_title": true,
      "toc_cell": false,
      "toc_position": {},
      "toc_section_display": "block",
      "toc_window_display": false
    },
    "varInspector": {
      "cols": {
        "lenName": 16,
        "lenType": 16,
        "lenVar": 40
      },
      "kernels_config": {
        "python": {
          "delete_cmd_postfix": "",
          "delete_cmd_prefix": "del ",
          "library": "var_list.py",
          "varRefreshCmd": "print(var_dic_list())"
        },
        "r": {
          "delete_cmd_postfix": ") ",
          "delete_cmd_prefix": "rm(",
          "library": "var_list.r",
          "varRefreshCmd": "cat(var_dic_list()) "
        }
      },
      "types_to_exclude": [
        "module",
        "function",
        "builtin_function_or_method",
        "instance",
        "_Feature"
      ],
      "window_display": false
    }
  },
  "nbformat": 4,
  "nbformat_minor": 0
}